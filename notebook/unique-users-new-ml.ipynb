{
 "cells": [
  {
   "cell_type": "code",
   "execution_count": 1,
   "metadata": {},
   "outputs": [
    {
     "name": "stdout",
     "output_type": "stream",
     "text": [
      "Requirement already satisfied: psycopg2-binary in c:\\users\\abcis\\appdata\\local\\programs\\python\\python37\\lib\\site-packages (2.9.1)\n",
      "Requirement already satisfied: apyori in c:\\users\\abcis\\appdata\\local\\programs\\python\\python37\\lib\\site-packages (1.1.2)\n"
     ]
    },
    {
     "name": "stderr",
     "output_type": "stream",
     "text": [
      "WARNING: You are using pip version 20.2; however, version 21.2.4 is available.\n",
      "You should consider upgrading via the 'C:\\Users\\abcis\\AppData\\Local\\Programs\\Python\\Python37\\python.exe -m pip install --upgrade pip' command.\n"
     ]
    }
   ],
   "source": [
    "!python -m pip install psycopg2-binary apyori"
   ]
  },
  {
   "cell_type": "code",
   "execution_count": 2,
   "metadata": {},
   "outputs": [],
   "source": [
    "import pandas as pd\n",
    "import numpy as np\n",
    "import matplotlib.pyplot as plt\n",
    "import psycopg2 as pg\n",
    "from apyori import apriori\n",
    "%matplotlib inline\n",
    "import getpass\n",
    "from sklearn.ensemble import RandomForestClassifier\n",
    "from sklearn.neighbors import KNeighborsClassifier"
   ]
  },
  {
   "cell_type": "markdown",
   "id": "98336565",
   "metadata": {},
   "source": [
    "# Classification based on keyups and keydowns"
   ]
  },
  {
   "cell_type": "markdown",
   "id": "15bf6563",
   "metadata": {},
   "source": [
    "### Creation dataset"
   ]
  },
  {
   "cell_type": "code",
   "execution_count": 31,
   "id": "bd80a204",
   "metadata": {},
   "outputs": [],
   "source": [
    "data = {'ID':[1, 1, 1, 2,2,2], 'UP1':[121, 103, 119, 71, 106,55], 'UP2':[200, 175, 208, 231, 197,230], 'UP3':[337, 287, 335, 447, 408,446],  'UP4':[536, 400, 455, 591, 513,558], 'UP5':[712, 544, 583, 871, 795,832], 'UP6':[872, 631, 743, 1039, 902,1007],\n",
    "'DOWN1':[0, 0, 0, 0, 0, 0], 'DOWN1':[98, 81, 144, 159, 132,166], 'DOWN3':[241, 208, 248, 367, 323,368], 'DOWN4':[385, 241, 320, 519, 420,494], 'DOWN5':[624, 432, 496, 792, 696,768], 'DOWN6':[785, 570, 648, 959, 823,934]\n",
    "}  "
   ]
  },
  {
   "cell_type": "code",
   "execution_count": 32,
   "id": "e597765c",
   "metadata": {},
   "outputs": [],
   "source": [
    "test = pd.DataFrame(data)  \n",
    "  "
   ]
  },
  {
   "cell_type": "markdown",
   "id": "92a348cd",
   "metadata": {},
   "source": [
    "### Split - train and test"
   ]
  },
  {
   "cell_type": "code",
   "execution_count": 33,
   "id": "a78acfe3",
   "metadata": {},
   "outputs": [
    {
     "data": {
      "text/html": [
       "<div>\n",
       "<style scoped>\n",
       "    .dataframe tbody tr th:only-of-type {\n",
       "        vertical-align: middle;\n",
       "    }\n",
       "\n",
       "    .dataframe tbody tr th {\n",
       "        vertical-align: top;\n",
       "    }\n",
       "\n",
       "    .dataframe thead th {\n",
       "        text-align: right;\n",
       "    }\n",
       "</style>\n",
       "<table border=\"1\" class=\"dataframe\">\n",
       "  <thead>\n",
       "    <tr style=\"text-align: right;\">\n",
       "      <th></th>\n",
       "      <th>ID</th>\n",
       "      <th>UP1</th>\n",
       "      <th>UP2</th>\n",
       "      <th>UP3</th>\n",
       "      <th>UP4</th>\n",
       "      <th>UP5</th>\n",
       "      <th>UP6</th>\n",
       "      <th>DOWN1</th>\n",
       "      <th>DOWN3</th>\n",
       "      <th>DOWN4</th>\n",
       "      <th>DOWN5</th>\n",
       "      <th>DOWN6</th>\n",
       "    </tr>\n",
       "  </thead>\n",
       "  <tbody>\n",
       "    <tr>\n",
       "      <th>0</th>\n",
       "      <td>1</td>\n",
       "      <td>121</td>\n",
       "      <td>200</td>\n",
       "      <td>337</td>\n",
       "      <td>536</td>\n",
       "      <td>712</td>\n",
       "      <td>872</td>\n",
       "      <td>98</td>\n",
       "      <td>241</td>\n",
       "      <td>385</td>\n",
       "      <td>624</td>\n",
       "      <td>785</td>\n",
       "    </tr>\n",
       "    <tr>\n",
       "      <th>1</th>\n",
       "      <td>1</td>\n",
       "      <td>103</td>\n",
       "      <td>175</td>\n",
       "      <td>287</td>\n",
       "      <td>400</td>\n",
       "      <td>544</td>\n",
       "      <td>631</td>\n",
       "      <td>81</td>\n",
       "      <td>208</td>\n",
       "      <td>241</td>\n",
       "      <td>432</td>\n",
       "      <td>570</td>\n",
       "    </tr>\n",
       "    <tr>\n",
       "      <th>2</th>\n",
       "      <td>1</td>\n",
       "      <td>119</td>\n",
       "      <td>208</td>\n",
       "      <td>335</td>\n",
       "      <td>455</td>\n",
       "      <td>583</td>\n",
       "      <td>743</td>\n",
       "      <td>144</td>\n",
       "      <td>248</td>\n",
       "      <td>320</td>\n",
       "      <td>496</td>\n",
       "      <td>648</td>\n",
       "    </tr>\n",
       "    <tr>\n",
       "      <th>3</th>\n",
       "      <td>2</td>\n",
       "      <td>71</td>\n",
       "      <td>231</td>\n",
       "      <td>447</td>\n",
       "      <td>591</td>\n",
       "      <td>871</td>\n",
       "      <td>1039</td>\n",
       "      <td>159</td>\n",
       "      <td>367</td>\n",
       "      <td>519</td>\n",
       "      <td>792</td>\n",
       "      <td>959</td>\n",
       "    </tr>\n",
       "    <tr>\n",
       "      <th>4</th>\n",
       "      <td>2</td>\n",
       "      <td>106</td>\n",
       "      <td>197</td>\n",
       "      <td>408</td>\n",
       "      <td>513</td>\n",
       "      <td>795</td>\n",
       "      <td>902</td>\n",
       "      <td>132</td>\n",
       "      <td>323</td>\n",
       "      <td>420</td>\n",
       "      <td>696</td>\n",
       "      <td>823</td>\n",
       "    </tr>\n",
       "    <tr>\n",
       "      <th>5</th>\n",
       "      <td>2</td>\n",
       "      <td>55</td>\n",
       "      <td>230</td>\n",
       "      <td>446</td>\n",
       "      <td>558</td>\n",
       "      <td>832</td>\n",
       "      <td>1007</td>\n",
       "      <td>166</td>\n",
       "      <td>368</td>\n",
       "      <td>494</td>\n",
       "      <td>768</td>\n",
       "      <td>934</td>\n",
       "    </tr>\n",
       "  </tbody>\n",
       "</table>\n",
       "</div>"
      ],
      "text/plain": [
       "   ID  UP1  UP2  UP3  UP4  UP5   UP6  DOWN1  DOWN3  DOWN4  DOWN5  DOWN6\n",
       "0   1  121  200  337  536  712   872     98    241    385    624    785\n",
       "1   1  103  175  287  400  544   631     81    208    241    432    570\n",
       "2   1  119  208  335  455  583   743    144    248    320    496    648\n",
       "3   2   71  231  447  591  871  1039    159    367    519    792    959\n",
       "4   2  106  197  408  513  795   902    132    323    420    696    823\n",
       "5   2   55  230  446  558  832  1007    166    368    494    768    934"
      ]
     },
     "execution_count": 33,
     "metadata": {},
     "output_type": "execute_result"
    }
   ],
   "source": [
    "test"
   ]
  },
  {
   "cell_type": "code",
   "execution_count": 35,
   "id": "de156001",
   "metadata": {},
   "outputs": [
    {
     "name": "stdout",
     "output_type": "stream",
     "text": [
      "   ID  UP1  UP2  UP3  UP4  UP5  UP6  DOWN1  DOWN3  DOWN4  DOWN5  DOWN6\n",
      "0   1  121  200  337  536  712  872     98    241    385    624    785\n",
      "2   1  119  208  335  455  583  743    144    248    320    496    648\n",
      "4   2  106  197  408  513  795  902    132    323    420    696    823\n"
     ]
    }
   ],
   "source": [
    "treino = test.loc[test.index %2 ==0]\n",
    "print (treino)"
   ]
  },
  {
   "cell_type": "code",
   "execution_count": 36,
   "id": "ec7a3034",
   "metadata": {},
   "outputs": [
    {
     "name": "stdout",
     "output_type": "stream",
     "text": [
      "   ID  UP1  UP2  UP3  UP4  UP5   UP6  DOWN1  DOWN3  DOWN4  DOWN5  DOWN6\n",
      "1   1  103  175  287  400  544   631     81    208    241    432    570\n",
      "3   2   71  231  447  591  871  1039    159    367    519    792    959\n",
      "5   2   55  230  446  558  832  1007    166    368    494    768    934\n"
     ]
    }
   ],
   "source": [
    "pred = test.loc[test.index %2 !=0]\n",
    "print (pred)"
   ]
  },
  {
   "cell_type": "code",
   "execution_count": 54,
   "id": "2e9b141e",
   "metadata": {},
   "outputs": [],
   "source": [
    "X = treino.drop(['ID'], axis=1)\n",
    "y = treino[['ID']]"
   ]
  },
  {
   "cell_type": "code",
   "execution_count": 55,
   "id": "c07b8453",
   "metadata": {},
   "outputs": [],
   "source": [
    "X_pred = pred.drop(['ID'], axis=1)"
   ]
  },
  {
   "cell_type": "code",
   "execution_count": 56,
   "id": "32e26ea7",
   "metadata": {},
   "outputs": [],
   "source": [
    "y_pred = pred[['ID']]"
   ]
  },
  {
   "cell_type": "markdown",
   "id": "2148c3bf",
   "metadata": {},
   "source": [
    "### KNN"
   ]
  },
  {
   "cell_type": "code",
   "execution_count": null,
   "id": "644d0473",
   "metadata": {},
   "outputs": [],
   "source": [
    "model = KNeighborsClassifier(n_neighbors=2)"
   ]
  },
  {
   "cell_type": "code",
   "execution_count": 57,
   "id": "da3f62f3",
   "metadata": {},
   "outputs": [
    {
     "name": "stderr",
     "output_type": "stream",
     "text": [
      "C:\\Users\\abcis\\.pyenv\\pyenv-win\\versions\\3.9.0\\lib\\site-packages\\sklearn\\neighbors\\_classification.py:198: DataConversionWarning: A column-vector y was passed when a 1d array was expected. Please change the shape of y to (n_samples,), for example using ravel().\n",
      "  return self._fit(X, y)\n"
     ]
    },
    {
     "data": {
      "text/plain": [
       "KNeighborsClassifier(n_neighbors=2)"
      ]
     },
     "execution_count": 57,
     "metadata": {},
     "output_type": "execute_result"
    }
   ],
   "source": [
    "model.fit(X,y)"
   ]
  },
  {
   "cell_type": "code",
   "execution_count": 58,
   "id": "8ca34a2e",
   "metadata": {},
   "outputs": [
    {
     "name": "stderr",
     "output_type": "stream",
     "text": [
      "C:\\Users\\abcis\\.pyenv\\pyenv-win\\versions\\3.9.0\\lib\\site-packages\\sklearn\\base.py:441: UserWarning: X does not have valid feature names, but KNeighborsClassifier was fitted with feature names\n",
      "  warnings.warn(\n"
     ]
    }
   ],
   "source": [
    "predicted = model.predict(X_pred)"
   ]
  },
  {
   "cell_type": "code",
   "execution_count": 59,
   "id": "3100275e",
   "metadata": {},
   "outputs": [
    {
     "data": {
      "text/plain": [
       "array([1, 1, 1], dtype=int64)"
      ]
     },
     "execution_count": 59,
     "metadata": {},
     "output_type": "execute_result"
    }
   ],
   "source": [
    "predicted"
   ]
  },
  {
   "cell_type": "markdown",
   "id": "34446853",
   "metadata": {},
   "source": [
    "#### Evaluation"
   ]
  },
  {
   "cell_type": "code",
   "execution_count": 60,
   "id": "0424d4ba",
   "metadata": {},
   "outputs": [
    {
     "name": "stdout",
     "output_type": "stream",
     "text": [
      "Accuracy: 0.3333333333333333\n"
     ]
    }
   ],
   "source": [
    "from sklearn import metrics\n",
    "print(\"Accuracy:\",metrics.accuracy_score(y_pred, predicted))"
   ]
  },
  {
   "cell_type": "markdown",
   "id": "2bf8384a",
   "metadata": {},
   "source": [
    "### Random Forest"
   ]
  },
  {
   "cell_type": "code",
   "execution_count": 62,
   "id": "601aae97",
   "metadata": {},
   "outputs": [
    {
     "name": "stderr",
     "output_type": "stream",
     "text": [
      "C:\\Users\\abcis\\AppData\\Local\\Temp/ipykernel_21664/3685092804.py:2: DataConversionWarning: A column-vector y was passed when a 1d array was expected. Please change the shape of y to (n_samples,), for example using ravel().\n",
      "  rfc.fit(X, y)\n"
     ]
    },
    {
     "data": {
      "text/plain": [
       "RandomForestClassifier()"
      ]
     },
     "execution_count": 62,
     "metadata": {},
     "output_type": "execute_result"
    }
   ],
   "source": [
    "rfc = RandomForestClassifier()\n",
    "rfc.fit(X, y)"
   ]
  },
  {
   "cell_type": "code",
   "execution_count": 64,
   "id": "9c3be2cf",
   "metadata": {},
   "outputs": [],
   "source": [
    "pred=rfc.predict(X_pred)"
   ]
  },
  {
   "cell_type": "code",
   "execution_count": 66,
   "id": "6c4a2916",
   "metadata": {},
   "outputs": [
    {
     "data": {
      "text/plain": [
       "array([1, 2, 2], dtype=int64)"
      ]
     },
     "execution_count": 66,
     "metadata": {},
     "output_type": "execute_result"
    }
   ],
   "source": [
    "pred"
   ]
  },
  {
   "cell_type": "markdown",
   "id": "35c9d090",
   "metadata": {},
   "source": [
    "#### Evaluation"
   ]
  },
  {
   "cell_type": "code",
   "execution_count": 65,
   "id": "044397b5",
   "metadata": {},
   "outputs": [
    {
     "name": "stdout",
     "output_type": "stream",
     "text": [
      "1.0\n",
      "1.0\n",
      "[[1 0]\n",
      " [0 2]]\n"
     ]
    }
   ],
   "source": [
    "from sklearn.metrics import accuracy_score, recall_score, confusion_matrix\n",
    "\n",
    "print(accuracy_score(y_pred, pred))\n",
    "print(recall_score(y_pred, pred))\n",
    "print(confusion_matrix(y_pred,pred))"
   ]
  }
 ],
 "metadata": {
  "interpreter": {
   "hash": "457b70348ab77391ce62e034c9da1641c49771e8fe2c50757608c6444a452542"
  },
  "kernelspec": {
   "display_name": "Python 3.9.0 64-bit ('3.9.0': pyenv)",
   "name": "python3"
  },
  "language_info": {
   "codemirror_mode": {
    "name": "ipython",
    "version": 3
   },
   "file_extension": ".py",
   "mimetype": "text/x-python",
   "name": "python",
   "nbconvert_exporter": "python",
   "pygments_lexer": "ipython3",
   "version": "3.9.0"
  }
 },
 "nbformat": 4,
 "nbformat_minor": 5
}
