{
 "cells": [
  {
   "cell_type": "code",
   "execution_count": 1,
   "id": "a2244862",
   "metadata": {},
   "outputs": [
    {
     "name": "stdout",
     "output_type": "stream",
     "text": [
      "/usr/bin/python: No module named pip\n"
     ]
    }
   ],
   "source": [
    "!python -m pip install psycopg2-binary apyori"
   ]
  },
  {
   "cell_type": "code",
   "execution_count": 2,
   "id": "3ffc0018",
   "metadata": {},
   "outputs": [],
   "source": [
    "import pandas as pd\n",
    "import numpy as np\n",
    "import matplotlib.pyplot as plt\n",
    "import psycopg2 as pg\n",
    "from apyori import apriori\n",
    "%matplotlib inline\n",
    "import getpass\n",
    "from sklearn.ensemble import RandomForestClassifier\n",
    "from sklearn.neighbors import KNeighborsClassifier"
   ]
  },
  {
   "cell_type": "markdown",
   "id": "98336565",
   "metadata": {},
   "source": [
    "# Classification based on keyups and keydowns"
   ]
  },
  {
   "cell_type": "markdown",
   "id": "15bf6563",
   "metadata": {},
   "source": [
    "### Creation dataset"
   ]
  },
  {
   "cell_type": "code",
   "execution_count": 3,
   "id": "bd80a204",
   "metadata": {},
   "outputs": [],
   "source": [
    "data = {\n",
    "    'ID':[1, 1, 1, 2,2,2,3,3,3],\n",
    "    'UP1':[121, 103, 119, 71, 106,55,94,111,137,],\n",
    "    'UP2':[200, 175, 208, 231, 197,230,233,274,246,],\n",
    "    'UP3':[337, 287, 335, 447, 408,446,271,307,293],\n",
    "    'UP4':[536, 400, 455, 591, 513,558,334,383,406,],\n",
    "    'UP5':[712, 544, 583, 871, 795,832,405,427,428,],\n",
    "    'UP6':[872, 631, 743, 1039, 902,1007,504,523,547],  \n",
    "    'DOWN1':[0, 0, 0, 0, 0, 0, 0,0,0,],\n",
    "    'DOWN2':[98, 81, 144, 159, 132,166,57,78,28],\n",
    "    'DOWN3':[241, 208, 248, 367, 323,368,134,177,146],\n",
    "    'DOWN4':[385, 241, 320, 519, 420,494,187,235,223],\n",
    "    'DOWN5':[624, 432, 496, 792, 696,768,267,320,286],\n",
    "    'DOWN6':[785, 570, 648, 959, 823,934,366,399,376],\n",
    "    \n",
    "} "
   ]
  },
  {
   "cell_type": "code",
   "execution_count": 4,
   "id": "e597765c",
   "metadata": {},
   "outputs": [],
   "source": [
    "test = pd.DataFrame(data)  "
   ]
  },
  {
   "cell_type": "markdown",
   "id": "92a348cd",
   "metadata": {},
   "source": [
    "### Split - train and test"
   ]
  },
  {
   "cell_type": "code",
   "execution_count": 5,
   "id": "a78acfe3",
   "metadata": {},
   "outputs": [
    {
     "data": {
      "text/html": [
       "<div>\n",
       "<style scoped>\n",
       "    .dataframe tbody tr th:only-of-type {\n",
       "        vertical-align: middle;\n",
       "    }\n",
       "\n",
       "    .dataframe tbody tr th {\n",
       "        vertical-align: top;\n",
       "    }\n",
       "\n",
       "    .dataframe thead th {\n",
       "        text-align: right;\n",
       "    }\n",
       "</style>\n",
       "<table border=\"1\" class=\"dataframe\">\n",
       "  <thead>\n",
       "    <tr style=\"text-align: right;\">\n",
       "      <th></th>\n",
       "      <th>ID</th>\n",
       "      <th>UP1</th>\n",
       "      <th>UP2</th>\n",
       "      <th>UP3</th>\n",
       "      <th>UP4</th>\n",
       "      <th>UP5</th>\n",
       "      <th>UP6</th>\n",
       "      <th>DOWN1</th>\n",
       "      <th>DOWN2</th>\n",
       "      <th>DOWN3</th>\n",
       "      <th>DOWN4</th>\n",
       "      <th>DOWN5</th>\n",
       "      <th>DOWN6</th>\n",
       "    </tr>\n",
       "  </thead>\n",
       "  <tbody>\n",
       "    <tr>\n",
       "      <th>0</th>\n",
       "      <td>1</td>\n",
       "      <td>121</td>\n",
       "      <td>200</td>\n",
       "      <td>337</td>\n",
       "      <td>536</td>\n",
       "      <td>712</td>\n",
       "      <td>872</td>\n",
       "      <td>0</td>\n",
       "      <td>98</td>\n",
       "      <td>241</td>\n",
       "      <td>385</td>\n",
       "      <td>624</td>\n",
       "      <td>785</td>\n",
       "    </tr>\n",
       "    <tr>\n",
       "      <th>1</th>\n",
       "      <td>1</td>\n",
       "      <td>103</td>\n",
       "      <td>175</td>\n",
       "      <td>287</td>\n",
       "      <td>400</td>\n",
       "      <td>544</td>\n",
       "      <td>631</td>\n",
       "      <td>0</td>\n",
       "      <td>81</td>\n",
       "      <td>208</td>\n",
       "      <td>241</td>\n",
       "      <td>432</td>\n",
       "      <td>570</td>\n",
       "    </tr>\n",
       "    <tr>\n",
       "      <th>2</th>\n",
       "      <td>1</td>\n",
       "      <td>119</td>\n",
       "      <td>208</td>\n",
       "      <td>335</td>\n",
       "      <td>455</td>\n",
       "      <td>583</td>\n",
       "      <td>743</td>\n",
       "      <td>0</td>\n",
       "      <td>144</td>\n",
       "      <td>248</td>\n",
       "      <td>320</td>\n",
       "      <td>496</td>\n",
       "      <td>648</td>\n",
       "    </tr>\n",
       "  </tbody>\n",
       "</table>\n",
       "</div>"
      ],
      "text/plain": [
       "   ID  UP1  UP2  UP3  UP4  UP5  UP6  DOWN1  DOWN2  DOWN3  DOWN4  DOWN5  DOWN6\n",
       "0   1  121  200  337  536  712  872      0     98    241    385    624    785\n",
       "1   1  103  175  287  400  544  631      0     81    208    241    432    570\n",
       "2   1  119  208  335  455  583  743      0    144    248    320    496    648"
      ]
     },
     "execution_count": 5,
     "metadata": {},
     "output_type": "execute_result"
    }
   ],
   "source": [
    "test.head(3)"
   ]
  },
  {
   "cell_type": "code",
   "execution_count": 6,
   "id": "de156001",
   "metadata": {},
   "outputs": [
    {
     "name": "stdout",
     "output_type": "stream",
     "text": [
      "   ID  UP1  UP2  UP3  UP4  UP5  UP6  DOWN1  DOWN2  DOWN3  DOWN4  DOWN5  DOWN6\n",
      "0   1  121  200  337  536  712  872      0     98    241    385    624    785\n",
      "2   1  119  208  335  455  583  743      0    144    248    320    496    648\n",
      "4   2  106  197  408  513  795  902      0    132    323    420    696    823\n",
      "6   3   94  233  271  334  405  504      0     57    134    187    267    366\n",
      "8   3  137  246  293  406  428  547      0     28    146    223    286    376\n"
     ]
    }
   ],
   "source": [
    "treino = test.loc[test.index %2 ==0]\n",
    "print (treino)"
   ]
  },
  {
   "cell_type": "code",
   "execution_count": 7,
   "id": "ec7a3034",
   "metadata": {},
   "outputs": [
    {
     "name": "stdout",
     "output_type": "stream",
     "text": [
      "   ID  UP1  UP2  UP3  UP4  UP5   UP6  DOWN1  DOWN2  DOWN3  DOWN4  DOWN5  DOWN6\n",
      "1   1  103  175  287  400  544   631      0     81    208    241    432    570\n",
      "3   2   71  231  447  591  871  1039      0    159    367    519    792    959\n",
      "5   2   55  230  446  558  832  1007      0    166    368    494    768    934\n",
      "7   3  111  274  307  383  427   523      0     78    177    235    320    399\n"
     ]
    }
   ],
   "source": [
    "pred = test.loc[test.index %2 !=0]\n",
    "print (pred)"
   ]
  },
  {
   "cell_type": "code",
   "execution_count": 8,
   "id": "2e9b141e",
   "metadata": {},
   "outputs": [],
   "source": [
    "X = treino.drop(['ID'], axis=1)\n",
    "y = treino[['ID']]"
   ]
  },
  {
   "cell_type": "code",
   "execution_count": 9,
   "id": "c07b8453",
   "metadata": {},
   "outputs": [],
   "source": [
    "X_pred = pred.drop(['ID'], axis=1)"
   ]
  },
  {
   "cell_type": "code",
   "execution_count": 10,
   "id": "32e26ea7",
   "metadata": {},
   "outputs": [],
   "source": [
    "y_pred = pred[['ID']]"
   ]
  },
  {
   "cell_type": "markdown",
   "id": "2148c3bf",
   "metadata": {},
   "source": [
    "### KNN"
   ]
  },
  {
   "cell_type": "code",
   "execution_count": 11,
   "id": "644d0473",
   "metadata": {},
   "outputs": [],
   "source": [
    "model = KNeighborsClassifier(n_neighbors=2)"
   ]
  },
  {
   "cell_type": "code",
   "execution_count": 12,
   "id": "da3f62f3",
   "metadata": {},
   "outputs": [
    {
     "name": "stderr",
     "output_type": "stream",
     "text": [
      "/home/gabriel/.local/lib/python3.9/site-packages/sklearn/neighbors/_classification.py:179: DataConversionWarning: A column-vector y was passed when a 1d array was expected. Please change the shape of y to (n_samples,), for example using ravel().\n",
      "  return self._fit(X, y)\n"
     ]
    },
    {
     "data": {
      "text/plain": [
       "KNeighborsClassifier(n_neighbors=2)"
      ]
     },
     "execution_count": 12,
     "metadata": {},
     "output_type": "execute_result"
    }
   ],
   "source": [
    "model.fit(X,y)"
   ]
  },
  {
   "cell_type": "code",
   "execution_count": 13,
   "id": "8ca34a2e",
   "metadata": {},
   "outputs": [],
   "source": [
    "predicted = model.predict(X_pred)"
   ]
  },
  {
   "cell_type": "code",
   "execution_count": 14,
   "id": "3100275e",
   "metadata": {},
   "outputs": [
    {
     "data": {
      "text/plain": [
       "array([1, 1, 1, 3])"
      ]
     },
     "execution_count": 14,
     "metadata": {},
     "output_type": "execute_result"
    }
   ],
   "source": [
    "predicted"
   ]
  },
  {
   "cell_type": "markdown",
   "id": "34446853",
   "metadata": {},
   "source": [
    "#### Evaluation"
   ]
  },
  {
   "cell_type": "code",
   "execution_count": 15,
   "id": "0424d4ba",
   "metadata": {},
   "outputs": [
    {
     "name": "stdout",
     "output_type": "stream",
     "text": [
      "Accuracy: 0.5\n"
     ]
    }
   ],
   "source": [
    "from sklearn import metrics\n",
    "print(\"Accuracy:\",metrics.accuracy_score(y_pred, predicted))"
   ]
  },
  {
   "cell_type": "markdown",
   "id": "2bf8384a",
   "metadata": {},
   "source": [
    "### Random Forest"
   ]
  },
  {
   "cell_type": "code",
   "execution_count": 16,
   "id": "601aae97",
   "metadata": {},
   "outputs": [
    {
     "name": "stderr",
     "output_type": "stream",
     "text": [
      "/tmp/ipykernel_51851/3685092804.py:2: DataConversionWarning: A column-vector y was passed when a 1d array was expected. Please change the shape of y to (n_samples,), for example using ravel().\n",
      "  rfc.fit(X, y)\n"
     ]
    },
    {
     "data": {
      "text/plain": [
       "RandomForestClassifier()"
      ]
     },
     "execution_count": 16,
     "metadata": {},
     "output_type": "execute_result"
    }
   ],
   "source": [
    "rfc = RandomForestClassifier()\n",
    "rfc.fit(X, y)"
   ]
  },
  {
   "cell_type": "code",
   "execution_count": 17,
   "id": "9c3be2cf",
   "metadata": {},
   "outputs": [],
   "source": [
    "pred=rfc.predict(X_pred)"
   ]
  },
  {
   "cell_type": "code",
   "execution_count": 18,
   "id": "6c4a2916",
   "metadata": {},
   "outputs": [
    {
     "data": {
      "text/plain": [
       "array([1, 2, 2, 3])"
      ]
     },
     "execution_count": 18,
     "metadata": {},
     "output_type": "execute_result"
    }
   ],
   "source": [
    "pred"
   ]
  },
  {
   "cell_type": "markdown",
   "id": "35c9d090",
   "metadata": {},
   "source": [
    "#### Evaluation"
   ]
  },
  {
   "cell_type": "code",
   "execution_count": 19,
   "id": "044397b5",
   "metadata": {},
   "outputs": [
    {
     "name": "stdout",
     "output_type": "stream",
     "text": [
      "1.0\n",
      "1.0\n",
      "[[1 0 0]\n",
      " [0 2 0]\n",
      " [0 0 1]]\n"
     ]
    }
   ],
   "source": [
    "from sklearn.metrics import accuracy_score, recall_score, confusion_matrix\n",
    "\n",
    "print(accuracy_score(y_pred, pred))\n",
    "print(recall_score(y_pred, pred, average='macro'))\n",
    "print(confusion_matrix(y_pred,pred))"
   ]
  },
  {
   "cell_type": "code",
   "execution_count": null,
   "id": "6786c6bc-215f-4705-aac1-ed58ed12c805",
   "metadata": {},
   "outputs": [],
   "source": []
  }
 ],
 "metadata": {
  "interpreter": {
   "hash": "457b70348ab77391ce62e034c9da1641c49771e8fe2c50757608c6444a452542"
  },
  "kernelspec": {
   "display_name": "Python 3 (ipykernel)",
   "language": "python",
   "name": "python3"
  },
  "language_info": {
   "codemirror_mode": {
    "name": "ipython",
    "version": 3
   },
   "file_extension": ".py",
   "mimetype": "text/x-python",
   "name": "python",
   "nbconvert_exporter": "python",
   "pygments_lexer": "ipython3",
   "version": "3.9.5"
  }
 },
 "nbformat": 4,
 "nbformat_minor": 5
}
